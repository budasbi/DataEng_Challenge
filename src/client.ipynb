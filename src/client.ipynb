{
 "cells": [
  {
   "cell_type": "code",
   "execution_count": 1,
   "metadata": {},
   "outputs": [],
   "source": [
    "import requests\n",
    "\n",
    "main_endpoint = \"https://ws61qfkfyk.execute-api.us-east-1.amazonaws.com/dev\"\n",
    "\n"
   ]
  },
  {
   "cell_type": "code",
   "execution_count": 2,
   "metadata": {},
   "outputs": [],
   "source": [
    "def post_call(endpoint, path, payload):\n",
    "    post_url = f\"{endpoint}/{path}\"\n",
    "    print(post_url)\n",
    "\n",
    "    try:\n",
    "        post_response = requests.post(post_url, json=payload)\n",
    "    except requests.exceptions.RequestException as e:\n",
    "        print(f\"Error in the  POST request: {e}\")\n",
    "    if post_response.status_code in [201,200]:\n",
    "        print(\"POST Succeed!\")\n",
    "        print(\"response:\", post_response.json())\n",
    "    else:\n",
    "        print(f\"Error: {post_response.status_code}\")\n",
    "        print(\"message:\", post_response.text)\n"
   ]
  },
  {
   "cell_type": "code",
   "execution_count": 3,
   "metadata": {},
   "outputs": [],
   "source": [
    "def put_call(endpoint, path, payload):\n",
    "    put_url = f\"{endpoint}/{path}\"  # Asumiendo que estamos actualizando el recurso con ID 1\n",
    "    print(put_url)\n",
    "    try:\n",
    "        put_response = requests.put(put_url, json=payload)\n",
    "        put_response.raise_for_status()  # Levanta una excepción para códigos de error HTTP\n",
    "    except requests.exceptions.RequestException as e:\n",
    "        print(f\"Error in PUT request: {e}\")\n",
    "\n",
    "    if put_response.status_code in [200, 201]:\n",
    "        print(\"PUT succeed!\")\n",
    "        print(\"Response:\", put_response.json())\n",
    "    else:\n",
    "        print(f\"Error : {put_response.status_code}\")\n",
    "        print(\"Message:\", put_response.text)"
   ]
  },
  {
   "cell_type": "code",
   "execution_count": 4,
   "metadata": {},
   "outputs": [],
   "source": [
    "jobs_payload = {\"jobs\" : [{\"id\": \"550\", \"job\":\"Data Engineer\"},{\"id\": \"551\", \"job\":\"Data Analyst\"},{\"id\": \"552\", \"job\":\"Data scientist\"},{\"id\": 2, \"job\":\"VP Sales\"}]}"
   ]
  },
  {
   "cell_type": "code",
   "execution_count": 5,
   "metadata": {},
   "outputs": [
    {
     "name": "stdout",
     "output_type": "stream",
     "text": [
      "https://ws61qfkfyk.execute-api.us-east-1.amazonaws.com/dev/jobs\n",
      "POST Succeed!\n",
      "response: {'message': 'Data Loaded into jobs table!', 'payload': {'jobs': [{'id': '550', 'job': 'Data Engineer'}, {'id': '551', 'job': 'Data Analyst'}, {'id': '552', 'job': 'Data scientist'}, {'id': 2, 'job': 'VP Sales'}]}}\n"
     ]
    }
   ],
   "source": [
    "post_call(main_endpoint, 'jobs', jobs_payload)"
   ]
  },
  {
   "cell_type": "code",
   "execution_count": 6,
   "metadata": {},
   "outputs": [],
   "source": [
    "department_payload = {\"departments\" : [{\"id\": \"15\", \"department\":\"Gardening\"},{\"id\": \"16\", \"department\":\"Analyst\"},{\"id\": \"17\", \"department\":\"Data Engineering\"},{\"id\": \"2\", \"department\":\"Sales\"}]}"
   ]
  },
  {
   "cell_type": "code",
   "execution_count": 7,
   "metadata": {},
   "outputs": [
    {
     "name": "stdout",
     "output_type": "stream",
     "text": [
      "https://ws61qfkfyk.execute-api.us-east-1.amazonaws.com/dev/departments\n",
      "POST Succeed!\n",
      "response: {'message': 'Data Loaded jobs departments table!', 'payload': {'departments': [{'id': '15', 'department': 'Gardening'}, {'id': '16', 'department': 'Analyst'}, {'id': '17', 'department': 'Data Engineering'}, {'id': '2', 'department': 'Sales'}]}}\n"
     ]
    }
   ],
   "source": [
    "post_call(main_endpoint, 'departments', department_payload)"
   ]
  },
  {
   "cell_type": "code",
   "execution_count": 8,
   "metadata": {},
   "outputs": [],
   "source": [
    "hired_emp_payload = {\"hired_employees\" : [{\"id\": \"5000\", \"name\":\"Oscar S\", \"datetime\" : \"2024-07-01T10:47:37Z\", \"department_id\":\"17\", \"job_id\":\"550\"},{\"id\": \"5001\", \"name\":\"Mario Bross\", \"datetime\" : \"2024-07-01T10:47:37Z\", \"department_id\":\"99\", \"job_id\":\"660\"},{\"id\": \"5002\", \"name\":\"Luigi Bross\", \"datetime\" : \"2024-07-01T10:47:37Z\", \"department_id\":\"2\", \"job_id\":\"2\"}]}"
   ]
  },
  {
   "cell_type": "code",
   "execution_count": 9,
   "metadata": {},
   "outputs": [
    {
     "name": "stdout",
     "output_type": "stream",
     "text": [
      "https://ws61qfkfyk.execute-api.us-east-1.amazonaws.com/dev/hired_employees\n",
      "POST Succeed!\n",
      "response: {'message': 'Data Loaded jobs hired_employees table!', 'payload': {'hired_employees': [{'id': '5000', 'name': 'Oscar S', 'datetime': '2024-07-01T10:47:37Z', 'department_id': '17', 'job_id': '550'}, {'id': '5001', 'name': 'Mario Bross', 'datetime': '2024-07-01T10:47:37Z', 'department_id': '99', 'job_id': '660'}, {'id': '5002', 'name': 'Luigi Bross', 'datetime': '2024-07-01T10:47:37Z', 'department_id': '2', 'job_id': '2'}]}}\n"
     ]
    }
   ],
   "source": [
    "post_call(main_endpoint, 'hired_employees', hired_emp_payload)"
   ]
  },
  {
   "cell_type": "code",
   "execution_count": 10,
   "metadata": {},
   "outputs": [
    {
     "name": "stdout",
     "output_type": "stream",
     "text": [
      "https://ws61qfkfyk.execute-api.us-east-1.amazonaws.com/dev/create_backup\n",
      "PUT succeed!\n",
      "Response: {'message': 'Backup Done'}\n"
     ]
    }
   ],
   "source": [
    "put_call(main_endpoint,'create_backup',{})"
   ]
  },
  {
   "cell_type": "code",
   "execution_count": 11,
   "metadata": {},
   "outputs": [
    {
     "name": "stdout",
     "output_type": "stream",
     "text": [
      "https://ws61qfkfyk.execute-api.us-east-1.amazonaws.com/dev/restore_backup\n",
      "PUT succeed!\n",
      "Response: {'message': 'Backup Restored'}\n"
     ]
    }
   ],
   "source": [
    "put_call(main_endpoint,'restore_backup',{})"
   ]
  },
  {
   "cell_type": "code",
   "execution_count": null,
   "metadata": {},
   "outputs": [],
   "source": [
    "put_call(main_endpoint,'load_data',{})"
   ]
  }
 ],
 "metadata": {
  "kernelspec": {
   "display_name": ".venv",
   "language": "python",
   "name": "python3"
  },
  "language_info": {
   "codemirror_mode": {
    "name": "ipython",
    "version": 3
   },
   "file_extension": ".py",
   "mimetype": "text/x-python",
   "name": "python",
   "nbconvert_exporter": "python",
   "pygments_lexer": "ipython3",
   "version": "3.12.3"
  }
 },
 "nbformat": 4,
 "nbformat_minor": 2
}
