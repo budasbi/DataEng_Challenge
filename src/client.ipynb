{
 "cells": [
  {
   "cell_type": "code",
   "execution_count": 1,
   "metadata": {},
   "outputs": [],
   "source": [
    "import requests\n",
    "\n",
    "# Datos para el llamado POST\n",
    "main_endpoint = \"https://ws61qfkfyk.execute-api.us-east-1.amazonaws.com/dev\"\n",
    "# Datos para el llamado PUT\n",
    "\n"
   ]
  },
  {
   "cell_type": "code",
   "execution_count": 37,
   "metadata": {},
   "outputs": [],
   "source": [
    "def post_call(endpoint, path, payload):\n",
    "    post_url = f\"{endpoint}/{path}\"\n",
    "    print(post_url)\n",
    "\n",
    "    try:\n",
    "        post_response = requests.post(post_url, json=payload)\n",
    "    except requests.exceptions.RequestException as e:\n",
    "        print(f\"Error en la solicitud PUT: {e}\")\n",
    "    if post_response.status_code in [201,200]:\n",
    "        print(\"POST Succeed!\")\n",
    "        print(\"response:\", post_response.json())\n",
    "    else:\n",
    "        print(f\"Error: {post_response.status_code}\")\n",
    "        print(\"message:\", post_response.text)\n"
   ]
  },
  {
   "cell_type": "code",
   "execution_count": 38,
   "metadata": {},
   "outputs": [],
   "source": [
    "def put_call(endpoint, path, payload):\n",
    "    put_url = f\"{endpoint}/{path}\"  # Asumiendo que estamos actualizando el recurso con ID 1\n",
    "    print(put_url)\n",
    "    try:\n",
    "        put_response = requests.put(put_url, json=payload)\n",
    "        put_response.raise_for_status()  # Levanta una excepción para códigos de error HTTP\n",
    "    except requests.exceptions.RequestException as e:\n",
    "        print(f\"Error en la solicitud PUT: {e}\")\n",
    "\n",
    "    if put_response.status_code in [200, 201]:\n",
    "        print(\"PUT succeed!\")\n",
    "        print(\"Response:\", put_response.json())\n",
    "    else:\n",
    "        print(f\"Error : {put_response.status_code}\")\n",
    "        print(\"Message:\", put_response.text)"
   ]
  },
  {
   "cell_type": "code",
   "execution_count": 54,
   "metadata": {},
   "outputs": [],
   "source": [
    "jobs_payload = {\"jobs\" : [{\"id\": \"550\", \"job\":\"Data Engineer\"},{\"id\": \"551\", \"job\":\"Data Analyst\"},{\"id\": \"552\", \"job\":\"Data scientist\"},{\"id\": 2, \"job\":\"VP Sales\"}]}"
   ]
  },
  {
   "cell_type": "code",
   "execution_count": 56,
   "metadata": {},
   "outputs": [
    {
     "name": "stdout",
     "output_type": "stream",
     "text": [
      "https://ws61qfkfyk.execute-api.us-east-1.amazonaws.com/dev/jobs\n",
      "POST Succeed!\n",
      "response: {'message': 'Data Loaded into jobs table!', 'payload': {'jobs': [{'id': '550', 'job': 'Data Engineer'}, {'id': '551', 'job': 'Data Analyst'}, {'id': '552', 'job': 'Data scientist'}, {'id': 2, 'job': 'VP Sales'}]}}\n"
     ]
    }
   ],
   "source": [
    "post_call(main_endpoint, 'jobs', jobs_payload)"
   ]
  },
  {
   "cell_type": "code",
   "execution_count": 63,
   "metadata": {},
   "outputs": [],
   "source": [
    "department_payload = {\"departments\" : [{\"id\": \"15\", \"department\":\"Gardening\"},{\"id\": \"16\", \"department\":\"Analyst\"},{\"id\": \"17\", \"department\":\"Data Engineering\"},{\"id\": \"2\", \"department\":\"Sales\"}]}"
   ]
  },
  {
   "cell_type": "code",
   "execution_count": 64,
   "metadata": {},
   "outputs": [
    {
     "name": "stdout",
     "output_type": "stream",
     "text": [
      "https://ws61qfkfyk.execute-api.us-east-1.amazonaws.com/dev/departments\n",
      "POST Succeed!\n",
      "response: {'message': 'Data Loaded jobs departments table!', 'payload': {'departments': [{'id': '15', 'department': 'Gardening'}, {'id': '16', 'department': 'Analyst'}, {'id': '17', 'department': 'Data Engineering'}, {'id': '2', 'department': 'Sales'}]}}\n"
     ]
    }
   ],
   "source": [
    "post_call(main_endpoint, 'departments', department_payload)"
   ]
  },
  {
   "cell_type": "code",
   "execution_count": null,
   "metadata": {},
   "outputs": [],
   "source": [
    "hired_emp_payload = {\"departments\" : [{\"id\": \"15\", \"department\":\"Gardening\"},{\"id\": \"16\", \"department\":\"Analyst\"},{\"id\": \"17\", \"department\":\"Data Engineering\"},{\"id\": \"2\", \"department\":\"Sales\"}]}"
   ]
  }
 ],
 "metadata": {
  "kernelspec": {
   "display_name": ".venv",
   "language": "python",
   "name": "python3"
  },
  "language_info": {
   "codemirror_mode": {
    "name": "ipython",
    "version": 3
   },
   "file_extension": ".py",
   "mimetype": "text/x-python",
   "name": "python",
   "nbconvert_exporter": "python",
   "pygments_lexer": "ipython3",
   "version": "3.12.3"
  }
 },
 "nbformat": 4,
 "nbformat_minor": 2
}
