{
 "cells": [
  {
   "cell_type": "code",
   "execution_count": null,
   "metadata": {},
   "outputs": [],
   "source": [
    "import os\n",
    "import dotenv\n",
    "dotenv.load_dotenv()\n",
    "import pandas as pd\n",
    "from config import DATA_FILES"
   ]
  },
  {
   "cell_type": "code",
   "execution_count": null,
   "metadata": {},
   "outputs": [],
   "source": [
    "# DATABASE_HOST = os.environ['']\n",
    "DATABASE_NAME = os.environ.get('TF_VAR_DATABASE')\n",
    "DATABASE_USER = os.environ['TF_VAR_DATABASE_USER']\n",
    "DATABASE_PASS = os.environ['TF_VAR_DATABASE_PASSWORD']"
   ]
  },
  {
   "cell_type": "code",
   "execution_count": null,
   "metadata": {},
   "outputs": [],
   "source": [
    "jobs_data = pd.read_excel(os.path.join(DATA_FILES, 'jobs.xlsx'))\n",
    "departments_data = pd.read_excel(os.path.join(DATA_FILES, 'departments.xlsx'))\n",
    "hired_employees_data = pd.read_excel(os.path.join(DATA_FILES, 'hired_employees.xlsx'))"
   ]
  },
  {
   "cell_type": "code",
   "execution_count": 31,
   "metadata": {},
   "outputs": [],
   "source": [
    "#Format Jobs\n",
    "job_columns = ['id', 'job']\n",
    "jobs_data.columns = job_columns\n",
    "jobs_data['id'] = jobs_data['id'].astype(int)\n",
    "jobs_data['job'] = jobs_data['job'].astype(str)\n",
    "jobs_data_to_db = jobs_data.loc[(jobs_data['job'].notnull())&(jobs_data['id'].notnull()),:]\n",
    "jobs_data_to_logs = jobs_data.loc[(jobs_data['job'].isnull())|(jobs_data['id'].isnull()),:]\n"
   ]
  },
  {
   "cell_type": "code",
   "execution_count": 34,
   "metadata": {},
   "outputs": [],
   "source": [
    "#Format Departments\n",
    "departments_columns = ['id', 'department']\n",
    "departments_data.columns = departments_columns\n",
    "departments_data['id'] = departments_data['id'].astype(int)\n",
    "departments_data['department'] = departments_data['department'].astype(str)\n",
    "departments_data_to_db = departments_data.loc[(departments_data['department'].notnull())&(departments_data['id'].notnull()),:]\n",
    "departments_data_to_logs = departments_data.loc[(departments_data['department'].isnull())|(departments_data['id'].isnull()),:]"
   ]
  },
  {
   "cell_type": "code",
   "execution_count": 50,
   "metadata": {},
   "outputs": [],
   "source": [
    "#Format Hired_employees\n",
    "hired_employees_columns = ['id', 'name', 'datetime', 'department_id', 'job_id']\n",
    "hired_employees_data.columns = hired_employees_columns\n",
    "##Replace broken relations\n",
    "hired_employees_data['id'] = hired_employees_data['id'].fillna(-99)\n",
    "hired_employees_data['department_id'] = hired_employees_data['department_id'].fillna(-99)\n",
    "hired_employees_data['job_id'] = hired_employees_data['job_id'].fillna(-99)\n",
    "\n",
    "hired_employees_data['id'] = hired_employees_data['id'].astype(int)\n",
    "hired_employees_data['name'] = hired_employees_data['name'].astype(str)\n",
    "hired_employees_data['datetime'] = hired_employees_data['datetime'].astype(str)\n",
    "hired_employees_data['department_id'] = hired_employees_data['department_id'].astype(int)\n",
    "hired_employees_data['job_id'] = hired_employees_data['job_id'].astype(int)\n",
    "hired_employees_data_to_log = hired_employees_data.loc[(hired_employees_data['id']==-99)|(hired_employees_data['name']=='')|(hired_employees_data['datetime']=='')|(hired_employees_data['job_id']==-99)|(hired_employees_data['department_id']==-99), :]\n",
    "hired_employees_data_to_db = hired_employees_data.loc[(hired_employees_data['job_id']!=-99)&(hired_employees_data['department_id']!=-99), :]\n",
    "\n"
   ]
  }
 ],
 "metadata": {
  "kernelspec": {
   "display_name": ".venv",
   "language": "python",
   "name": "python3"
  },
  "language_info": {
   "codemirror_mode": {
    "name": "ipython",
    "version": 3
   },
   "file_extension": ".py",
   "mimetype": "text/x-python",
   "name": "python",
   "nbconvert_exporter": "python",
   "pygments_lexer": "ipython3",
   "version": "3.12.3"
  }
 },
 "nbformat": 4,
 "nbformat_minor": 2
}
