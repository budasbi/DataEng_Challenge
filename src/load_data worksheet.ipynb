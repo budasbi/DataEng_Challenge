{
 "cells": [
  {
   "cell_type": "code",
   "execution_count": 2,
   "metadata": {},
   "outputs": [],
   "source": [
    "import os\n",
    "import dotenv\n",
    "dotenv.load_dotenv()\n",
    "import pandas as pd\n",
    "from config import DATA_FILES, DATABASE_HOST, DATABASE_NAME, DATABASE_PASS, DATABASE_USER\n",
    "import psycopg2\n",
    "import io\n",
    "import traceback\n",
    "from sqlalchemy import create_engine"
   ]
  },
  {
   "cell_type": "code",
   "execution_count": 2,
   "metadata": {},
   "outputs": [],
   "source": [
    "# DATABASE_HOST = os.environ['']\n",
    "DATABASE_NAME = os.environ.get('TF_VAR_DATABASE')\n",
    "DATABASE_USER = os.environ['TF_VAR_DATABASE_USER']\n",
    "DATABASE_PASS = os.environ['TF_VAR_DATABASE_PASSWORD']\n",
    "DATABASE_HOST = 'datachallenge.cwl4757u5g17.us-east-1.rds.amazonaws.com'"
   ]
  },
  {
   "cell_type": "code",
   "execution_count": 3,
   "metadata": {},
   "outputs": [],
   "source": [
    "engine = create_engine(f'postgresql+psycopg2://{DATABASE_USER}:{DATABASE_PASS}@{DATABASE_HOST}/{DATABASE_NAME}')"
   ]
  },
  {
   "cell_type": "code",
   "execution_count": 4,
   "metadata": {},
   "outputs": [],
   "source": [
    "def copy_expert(df, table,fields=''):\n",
    "    \"\"\"will store dataframe's data into a database table \n",
    "    \n",
    "    Args:\n",
    "        df (Pandas Dataframe): dataframe to persist\n",
    "        table (string): destination table\n",
    "\n",
    "    Returns:\n",
    "        integer: 1 if a exception is raised\n",
    "    \"\"\"\n",
    "    # save dataframe to an in memory buffer\n",
    "    conn = psycopg2.connect(host=DATABASE_HOST, database=DATABASE_NAME, user=DATABASE_USER, password=DATABASE_PASS)\n",
    "    df = df.reset_index(drop=True)\n",
    "    cur = conn.cursor()\n",
    "    buffer = io.StringIO()\n",
    "    df.to_csv(buffer, index = False,header=False, sep='|')\n",
    "    buffer.seek(0)\n",
    "    cur.execute(f'SET search_path TO public')\n",
    "    cur.execute(f'truncate table {table} cascade')\n",
    "    try:\n",
    "        copy_sql = f\"\"\"\n",
    "                COPY {table} {fields} FROM stdin WITH CSV HEADER\n",
    "                DELIMITER as '|'\n",
    "                \"\"\"\n",
    "        cur.copy_expert(sql=copy_sql, file=io.StringIO(df.to_csv(index=False, header=True, sep='|')))\n",
    "        conn.commit()\n",
    "        cur.close()\n",
    "    except Exception:\n",
    "        conn.rollback()\n",
    "        cur.close()\n",
    "        print(traceback.format_exc())\n",
    "        return 1"
   ]
  },
  {
   "cell_type": "code",
   "execution_count": 5,
   "metadata": {},
   "outputs": [],
   "source": [
    "def load_to_logs(df_to_logs, table_name):\n",
    "    df_to_logs['payload'] = df_to_logs.apply(lambda row: row.to_dict(), axis=1)\n",
    "    df_to_logs['table_name'] = table_name\n",
    "    df_to_logs = df_to_logs.loc[:,[ 'table_name', 'payload']]\n",
    "    copy_expert(df_to_logs,'logs','(table_name, payload)')"
   ]
  },
  {
   "cell_type": "code",
   "execution_count": 6,
   "metadata": {},
   "outputs": [],
   "source": [
    "def load_jobs_file():\n",
    "    table_name = 'jobs'\n",
    "    jobs_data = pd.read_excel(os.path.join(DATA_FILES, 'jobs.xlsx'))\n",
    "    #Format Jobs\n",
    "    job_columns = ['id', 'job']\n",
    "    jobs_data.columns = job_columns\n",
    "    jobs_data['id'] = jobs_data['id'].astype(int)\n",
    "    jobs_data['job'] = jobs_data['job'].astype(str)\n",
    "    ###Apply All fields required rule\n",
    "    jobs_data_to_db = jobs_data.loc[(jobs_data['job'].notnull())&(jobs_data['id'].notnull()),:]\n",
    "    jobs_data_to_logs = jobs_data.loc[(jobs_data['job'].isnull())|(jobs_data['id'].isnull()),:]\n",
    "    copy_expert(df=jobs_data_to_db, table=table_name)\n",
    "    load_to_logs(jobs_data_to_logs,table_name)"
   ]
  },
  {
   "cell_type": "code",
   "execution_count": 7,
   "metadata": {},
   "outputs": [],
   "source": [
    "def load_departments_file():\n",
    "    table_name = 'departments'\n",
    "    departments_data = pd.read_excel(os.path.join(DATA_FILES, 'departments.xlsx'))\n",
    "    #Format Departments\n",
    "    departments_columns = ['id', 'department']\n",
    "    departments_data.columns = departments_columns\n",
    "    departments_data['id'] = departments_data['id'].astype(int)\n",
    "    departments_data['department'] = departments_data['department'].astype(str)\n",
    "    ###Apply All fields required rule\n",
    "    departments_data_to_db = departments_data.loc[(departments_data['department'].notnull())&(departments_data['id'].notnull()),:]\n",
    "    departments_data_to_logs = departments_data.loc[(departments_data['department'].isnull())|(departments_data['id'].isnull()),:]\n",
    "    copy_expert(df=departments_data_to_db, table=table_name)\n",
    "    load_to_logs(departments_data_to_logs,table_name)"
   ]
  },
  {
   "cell_type": "code",
   "execution_count": 8,
   "metadata": {},
   "outputs": [],
   "source": [
    "\n",
    "def load_hired_employees():\n",
    "    table_name = 'hired_employees'\n",
    "    hired_employees_data = pd.read_excel(os.path.join(DATA_FILES, 'hired_employees.xlsx'))\n",
    "    loaded_departments = pd.read_sql(\"select distinct id as dep_id_db from departments\",con=engine)\n",
    "    loaded_jobs = pd.read_sql(\"select distinct id as job_id_db from jobs\",con=engine)\n",
    "\n",
    "    #Format Hired_employees\n",
    "    hired_employees_columns = ['id', 'name', 'datetime', 'department_id', 'job_id']\n",
    "    hired_employees_data.columns = hired_employees_columns\n",
    "    ##Replace broken relations\n",
    "    hired_employees_data['id'] = hired_employees_data['id'].fillna(-99)\n",
    "    hired_employees_data['department_id'] = hired_employees_data['department_id'].fillna(-99)\n",
    "    hired_employees_data['job_id'] = hired_employees_data['job_id'].fillna(-99)\n",
    "    hired_employees_data['id'] = hired_employees_data['id'].astype(int)\n",
    "    hired_employees_data['name'] = hired_employees_data['name'].astype(str)\n",
    "    hired_employees_data['datetime'] = hired_employees_data['datetime'].astype(str)\n",
    "    hired_employees_data['department_id'] = hired_employees_data['department_id'].astype(int)\n",
    "    hired_employees_data['job_id'] = hired_employees_data['job_id'].astype(int)\n",
    "\n",
    "    hired_employees_data = pd.merge(hired_employees_data, loaded_jobs, how='left', left_on='job_id', right_on='job_id_db')\n",
    "    hired_employees_data = pd.merge(hired_employees_data, loaded_departments, how='left', left_on='department_id', right_on='dep_id_db')\n",
    "    hired_employees_data['dep_id_db'] = hired_employees_data['dep_id_db'].fillna(-99)\n",
    "    hired_employees_data['job_id_db'] = hired_employees_data['job_id_db'].fillna(-99)\n",
    "    ###Apply All fields required rule\n",
    "    hired_employees_data_to_logs = hired_employees_data.loc[(hired_employees_data['id']==-99)|(hired_employees_data['name']=='')|(hired_employees_data['datetime']=='')|(hired_employees_data['job_id']==-99)|(hired_employees_data['department_id']==-99)|(hired_employees_data['job_id_db']==-99)|(hired_employees_data['dep_id_db']==-99), :]\n",
    "    hired_employees_data_to_db = hired_employees_data.loc[(hired_employees_data['id']!=-99)&(hired_employees_data['name']!='')&(hired_employees_data['datetime']!='')&(hired_employees_data['job_id']!=-99)&(hired_employees_data['department_id']!=-99)&(hired_employees_data['job_id_db']!=-99)&(hired_employees_data['dep_id_db']!=-99), :]\n",
    "    del hired_employees_data_to_db['dep_id_db']\n",
    "    del hired_employees_data_to_db['job_id_db']\n",
    "    copy_expert(df=hired_employees_data_to_db, table=table_name)\n",
    "    load_to_logs(hired_employees_data_to_logs,table_name)\n",
    "    \n",
    "    "
   ]
  },
  {
   "cell_type": "code",
   "execution_count": 9,
   "metadata": {},
   "outputs": [],
   "source": [
    "def load_all_tables_data():\n",
    "    load_jobs_file()\n",
    "    load_departments_file()\n",
    "    load_hired_employees()"
   ]
  },
  {
   "cell_type": "code",
   "execution_count": 10,
   "metadata": {},
   "outputs": [
    {
     "name": "stderr",
     "output_type": "stream",
     "text": [
      "/tmp/ipykernel_361054/1528089329.py:2: SettingWithCopyWarning: \n",
      "A value is trying to be set on a copy of a slice from a DataFrame.\n",
      "Try using .loc[row_indexer,col_indexer] = value instead\n",
      "\n",
      "See the caveats in the documentation: https://pandas.pydata.org/pandas-docs/stable/user_guide/indexing.html#returning-a-view-versus-a-copy\n",
      "  df_to_logs['payload'] = df_to_logs.apply(lambda row: row.to_dict(), axis=1)\n",
      "/tmp/ipykernel_361054/1528089329.py:3: SettingWithCopyWarning: \n",
      "A value is trying to be set on a copy of a slice from a DataFrame.\n",
      "Try using .loc[row_indexer,col_indexer] = value instead\n",
      "\n",
      "See the caveats in the documentation: https://pandas.pydata.org/pandas-docs/stable/user_guide/indexing.html#returning-a-view-versus-a-copy\n",
      "  df_to_logs['table_name'] = table_name\n"
     ]
    }
   ],
   "source": [
    "load_all_tables_data()"
   ]
  },
  {
   "cell_type": "code",
   "execution_count": 15,
   "metadata": {},
   "outputs": [],
   "source": [
    "import boto3\n",
    "def download_s3_files():\n",
    "    \"\"\"Downloads jobs, departments, hired_employees files from s3\n",
    "    \"\"\"\n",
    "    os.environ['AWS_DEFAULT_REGION']='us-east-1'\n",
    "    s3_client = boto3.client('s3')\n",
    "    s3_client.download_file('data-challenge-bucket-oscar','data/departments.xlsx',os.path.join(DATA_FILES,'jobs.xlsx'))\n",
    "    s3_client.download_file('data-challenge-bucket-oscar','data/departments.xlsx',os.path.join(DATA_FILES,'departments.xlsx'))\n",
    "    s3_client.download_file('data-challenge-bucket-oscar','data/hired_employees.xlsx',os.path.join(DATA_FILES,'hired_employees.xlsx'))"
   ]
  },
  {
   "cell_type": "code",
   "execution_count": 3,
   "metadata": {},
   "outputs": [],
   "source": [
    "import psycopg2\n",
    "import fastavro\n",
    "from fastavro.schema import load_schema\n",
    "\n",
    "# Conectar a la base de datos PostgreSQL\n",
    "conn = psycopg2.connect(\n",
    "    dbname=DATABASE_NAME,\n",
    "    user=DATABASE_USER,\n",
    "    password=DATABASE_PASS,\n",
    "    host=DATABASE_HOST,\n",
    "    port='5432'\n",
    ")\n",
    "\n",
    "# Crear un cursor para ejecutar consultas\n",
    "cur = conn.cursor()\n",
    "\n",
    "# Ejecutar una consulta para obtener los datos de la tabla `users`\n",
    "cur.execute(\"select * from jobs\")\n",
    "records = cur.fetchall()\n",
    "\n",
    "# Cerrar la conexión\n",
    "cur.close()\n",
    "conn.close()"
   ]
  },
  {
   "cell_type": "code",
   "execution_count": null,
   "metadata": {},
   "outputs": [],
   "source": [
    "schema = {\n",
    "    \"type\": \"record\",\n",
    "    \"name\": \"jobs\",\n",
    "    \"fields\": [\n",
    "        {\"name\": \"id\", \"type\": \"int\"},\n",
    "        {\"name\": \"job\", \"type\": \"string\"},\n",
    "    ]\n",
    "}"
   ]
  },
  {
   "cell_type": "code",
   "execution_count": 6,
   "metadata": {},
   "outputs": [],
   "source": [
    "avro_records = [{\"id\": r[0], \"job\": r[1]} for r in records]"
   ]
  },
  {
   "cell_type": "code",
   "execution_count": 7,
   "metadata": {},
   "outputs": [],
   "source": [
    "output_file = 'users.avro'"
   ]
  },
  {
   "cell_type": "code",
   "execution_count": 8,
   "metadata": {},
   "outputs": [],
   "source": [
    "with open(output_file, 'wb') as out:\n",
    "    fastavro.writer(out, schema, avro_records)"
   ]
  },
  {
   "cell_type": "code",
   "execution_count": 9,
   "metadata": {},
   "outputs": [],
   "source": [
    "with open(output_file, 'rb') as file:\n",
    "    reader = fastavro.reader(file)\n",
    "    records = [record for record in reader]"
   ]
  },
  {
   "cell_type": "code",
   "execution_count": 10,
   "metadata": {},
   "outputs": [],
   "source": [
    "df = pd.DataFrame.from_records(records)"
   ]
  },
  {
   "cell_type": "code",
   "execution_count": 2,
   "metadata": {},
   "outputs": [],
   "source": [
    "from config import DATA_FILES, DATABASE_HOST, DATABASE_NAME, DATABASE_PASS, DATABASE_USER, BUCKET\n",
    "import boto3\n",
    "import psycopg2\n",
    "import fastavro"
   ]
  },
  {
   "cell_type": "code",
   "execution_count": 11,
   "metadata": {},
   "outputs": [
    {
     "data": {
      "text/html": [
       "<div>\n",
       "<style scoped>\n",
       "    .dataframe tbody tr th:only-of-type {\n",
       "        vertical-align: middle;\n",
       "    }\n",
       "\n",
       "    .dataframe tbody tr th {\n",
       "        vertical-align: top;\n",
       "    }\n",
       "\n",
       "    .dataframe thead th {\n",
       "        text-align: right;\n",
       "    }\n",
       "</style>\n",
       "<table border=\"1\" class=\"dataframe\">\n",
       "  <thead>\n",
       "    <tr style=\"text-align: right;\">\n",
       "      <th></th>\n",
       "      <th>id</th>\n",
       "      <th>job</th>\n",
       "    </tr>\n",
       "  </thead>\n",
       "  <tbody>\n",
       "    <tr>\n",
       "      <th>0</th>\n",
       "      <td>2</td>\n",
       "      <td>VP Sales</td>\n",
       "    </tr>\n",
       "    <tr>\n",
       "      <th>1</th>\n",
       "      <td>3</td>\n",
       "      <td>Biostatistician IV</td>\n",
       "    </tr>\n",
       "    <tr>\n",
       "      <th>2</th>\n",
       "      <td>4</td>\n",
       "      <td>Account Representative II</td>\n",
       "    </tr>\n",
       "    <tr>\n",
       "      <th>3</th>\n",
       "      <td>5</td>\n",
       "      <td>VP Marketing</td>\n",
       "    </tr>\n",
       "    <tr>\n",
       "      <th>4</th>\n",
       "      <td>6</td>\n",
       "      <td>Environmental Specialist</td>\n",
       "    </tr>\n",
       "    <tr>\n",
       "      <th>...</th>\n",
       "      <td>...</td>\n",
       "      <td>...</td>\n",
       "    </tr>\n",
       "    <tr>\n",
       "      <th>177</th>\n",
       "      <td>179</td>\n",
       "      <td>Software Engineer II</td>\n",
       "    </tr>\n",
       "    <tr>\n",
       "      <th>178</th>\n",
       "      <td>180</td>\n",
       "      <td>Statistician IV</td>\n",
       "    </tr>\n",
       "    <tr>\n",
       "      <th>179</th>\n",
       "      <td>181</td>\n",
       "      <td>Programmer Analyst I</td>\n",
       "    </tr>\n",
       "    <tr>\n",
       "      <th>180</th>\n",
       "      <td>182</td>\n",
       "      <td>Account Representative I</td>\n",
       "    </tr>\n",
       "    <tr>\n",
       "      <th>181</th>\n",
       "      <td>183</td>\n",
       "      <td>Administrative Assistant IV</td>\n",
       "    </tr>\n",
       "  </tbody>\n",
       "</table>\n",
       "<p>182 rows × 2 columns</p>\n",
       "</div>"
      ],
      "text/plain": [
       "      id                          job\n",
       "0      2                     VP Sales\n",
       "1      3           Biostatistician IV\n",
       "2      4    Account Representative II\n",
       "3      5                 VP Marketing\n",
       "4      6     Environmental Specialist\n",
       "..   ...                          ...\n",
       "177  179         Software Engineer II\n",
       "178  180              Statistician IV\n",
       "179  181         Programmer Analyst I\n",
       "180  182     Account Representative I\n",
       "181  183  Administrative Assistant IV\n",
       "\n",
       "[182 rows x 2 columns]"
      ]
     },
     "execution_count": 11,
     "metadata": {},
     "output_type": "execute_result"
    }
   ],
   "source": [
    "def create_table_backup(table_name):\n",
    "    conn = psycopg2.connect(\n",
    "    dbname=DATABASE_NAME,\n",
    "    user=DATABASE_USER,\n",
    "    password=DATABASE_PASS,\n",
    "    host=DATABASE_HOST,\n",
    "    port='5432'\n",
    "    )\n",
    "\n",
    "    cur = conn.cursor()\n",
    "    cur.execute(f\"select * from {table_name}\")\n",
    "    records = cur.fetchall()\n",
    "    cur.close()\n",
    "    conn.close()\n",
    "    \n",
    "    if table_name == 'jobs':\n",
    "        schema = {\n",
    "                \"type\": \"record\",\n",
    "                \"name\": \"jobs\",\n",
    "                \"fields\": [\n",
    "                    {\"name\": \"id\", \"type\": \"int\"},\n",
    "                    {\"name\": \"job\", \"type\": \"string\"},\n",
    "                ]\n",
    "            }\n",
    "        avro_records = [{\"id\": r[0], \"job\": r[1]} for r in records]\n",
    "    elif table_name == 'departments':\n",
    "        schema = {\n",
    "                \"type\": \"record\",\n",
    "                \"name\": \"departments\",\n",
    "                \"fields\": [\n",
    "                    {\"name\": \"id\", \"type\": \"int\"},\n",
    "                    {\"name\": \"department\", \"type\": \"string\"},\n",
    "                ]\n",
    "            }\n",
    "        avro_records = [{\"id\": r[0], \"department\": r[1]} for r in records]\n",
    "    elif table_name == 'hired_employees':\n",
    "        schema = {\n",
    "                \"type\": \"record\",\n",
    "                \"name\": \"jobs\",\n",
    "                \"fields\": [\n",
    "                    {\"name\": \"id\", \"type\": \"int\"},\n",
    "                    {\"name\": \"name\", \"type\": \"string\"},\n",
    "                    {\"name\": \"datetime\", \"type\": \"string\"},\n",
    "                    {\"name\": \"department_id\", \"type\": \"int\"},\n",
    "                    {\"name\": \"job_id\", \"type\": \"int\"}\n",
    "                ]\n",
    "            }\n",
    "        avro_records = [{\"id\": r[0], \"name\": r[1], \"datetime\": r[2], \"department_id\": r[3], \"job_id\": r[4]} for r in records]\n",
    "    else:\n",
    "        pass\n",
    "    with open(table_name, 'wb') as out:\n",
    "        fastavro.writer(out, schema, avro_records)\n",
    "        \n",
    "    s3Client = boto3.client('s3')    \n",
    "\n",
    "    # upload_fileobj\n",
    "    with open(table_name, 'rb') as fileObj:\n",
    "        response = s3Client.upload_fileobj(fileObj, BUCKET, f'backups/{table_name.txt}')\n",
    "        print(response)\n"
   ]
  }
 ],
 "metadata": {
  "kernelspec": {
   "display_name": ".venv",
   "language": "python",
   "name": "python3"
  },
  "language_info": {
   "codemirror_mode": {
    "name": "ipython",
    "version": 3
   },
   "file_extension": ".py",
   "mimetype": "text/x-python",
   "name": "python",
   "nbconvert_exporter": "python",
   "pygments_lexer": "ipython3",
   "version": "3.12.3"
  }
 },
 "nbformat": 4,
 "nbformat_minor": 2
}
